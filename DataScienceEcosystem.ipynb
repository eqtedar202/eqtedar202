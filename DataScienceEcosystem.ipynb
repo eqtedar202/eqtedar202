{
 "cells": [
  {
   "cell_type": "markdown",
   "metadata": {},
   "source": [
    "<center>\n",
    "    <img src=\"https://cf-courses-data.s3.us.cloud-object-storage.appdomain.cloud/IBMDeveloperSkillsNetwork-DS0105EN-SkillsNetwork/labs/Module2/images/SN_web_lightmode.png\" width=\"300\" alt=\"cognitiveclass.ai logo\">\n",
    "</center>\n"
   ]
  },
  {
   "cell_type": "markdown",
   "metadata": {},
   "source": [
    "#H1:Data Science Tools and Ecosystem \n"
   ]
  },
  {
   "cell_type": "markdown",
   "metadata": {},
   "source": [
    "#In this notebook,Data Science Tools and Ecosystem are summarized"
   ]
  },
  {
   "cell_type": "markdown",
   "metadata": {
    "tags": []
   },
   "source": [
    "#Some of the popular languages that Data Scientists use are:\n",
    "1.python \n",
    "2.Jana\n",
    "3.C++"
   ]
  },
  {
   "cell_type": "markdown",
   "metadata": {},
   "source": [
    "**Objectives:unordered list List popular for Data Science**\n",
    "-Create end use Markdown cells \n",
    "-Write comments in Python\n",
    "-Insert and delete a code cell"
   ]
  },
  {
   "cell_type": "markdown",
   "metadata": {},
   "source": [
    "#Some of the commonly used libraries used by Data Scientists include:\n",
    "|Data Science TOOls|Matplib|Anacoda|Pandas|"
   ]
  },
  {
   "cell_type": "markdown",
   "metadata": {},
   "source": [
    "###H3:Below are a few examples of evaluating arithmetic expression in python "
   ]
  },
  {
   "cell_type": "markdown",
   "metadata": {},
   "source": [
    "##In this code call evaluate the expression\n",
    "(3*4)+5"
   ]
  },
  {
   "cell_type": "markdown",
   "metadata": {},
   "source": [
    "##In this code cell write an expression that converts 200 minutes into hours\n",
    "200 minutes hours"
   ]
  },
  {
   "cell_type": "markdown",
   "metadata": {},
   "source": [
    "#Author H2 style heading name Author:\n",
    "-Lakshmi Holla\n",
    "-Nveditha pandith"
   ]
  }
 ],
 "metadata": {
  "kernelspec": {
   "display_name": "Python",
   "language": "python",
   "name": "conda-env-python-py"
  },
  "language_info": {
   "codemirror_mode": {
    "name": "ipython",
    "version": 3
   },
   "file_extension": ".py",
   "mimetype": "text/x-python",
   "name": "python",
   "nbconvert_exporter": "python",
   "pygments_lexer": "ipython3",
   "version": "3.7.12"
  }
 },
 "nbformat": 4,
 "nbformat_minor": 4
}
